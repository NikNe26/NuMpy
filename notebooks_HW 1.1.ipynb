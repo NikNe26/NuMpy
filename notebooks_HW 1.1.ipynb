{
  "metadata": {
    "kernelspec": {
      "name": "python",
      "display_name": "Python (Pyodide)",
      "language": "python"
    },
    "language_info": {
      "codemirror_mode": {
        "name": "python",
        "version": 3
      },
      "file_extension": ".py",
      "mimetype": "text/x-python",
      "name": "python",
      "nbconvert_exporter": "python",
      "pygments_lexer": "ipython3",
      "version": "3.8"
    }
  },
  "nbformat_minor": 5,
  "nbformat": 4,
  "cells": [
    {
      "cell_type": "markdown",
      "source": "Задание 1\n\nИмпортируйте библиотеку Numpy и дайте ей псевдоним np. Создайте массив Numpy под названием a размером 5x2, то есть состоящий из 5 строк и 2 столбцов. Первый столбец должен содержать числа 1, 2, 3, 3, 1, а второй - числа 6, 8, 11, 10, 7. Будем считать, что каждый столбец - это признак, а строка - наблюдение. Затем найдите среднее значение по каждому признаку, используя метод mean массива Numpy. Результат запишите в массив mean_a, в нем должно быть 2 элемента.\n",
      "metadata": {},
      "id": "3440c3ae-4964-4ef7-9de0-73241c92c093"
    },
    {
      "cell_type": "code",
      "source": "import numpy as np",
      "metadata": {
        "trusted": true
      },
      "execution_count": 8,
      "outputs": [],
      "id": "c8626bdd-fea3-4523-8eeb-cb2c7784570e"
    },
    {
      "cell_type": "code",
      "source": "a = np.array([[1, 6],\n              [2, 8],\n              [3, 11],\n              [3, 10],\n              [1, 7]])\na",
      "metadata": {
        "trusted": true
      },
      "execution_count": 9,
      "outputs": [
        {
          "execution_count": 9,
          "output_type": "execute_result",
          "data": {
            "text/plain": "array([[ 1,  6],\n       [ 2,  8],\n       [ 3, 11],\n       [ 3, 10],\n       [ 1,  7]])"
          },
          "metadata": {}
        }
      ],
      "id": "9be888a0-e241-4cb8-89fd-45cbc218e303"
    },
    {
      "cell_type": "code",
      "source": "mean_a = a.mean(axis=0)\nmean_a",
      "metadata": {
        "trusted": true
      },
      "execution_count": 10,
      "outputs": [
        {
          "execution_count": 10,
          "output_type": "execute_result",
          "data": {
            "text/plain": "array([2. , 8.4])"
          },
          "metadata": {}
        }
      ],
      "id": "c88b3ae7-6a9e-4c48-a5ee-8d73c6110691"
    },
    {
      "cell_type": "markdown",
      "source": "\nЗадание 2\n\nВычислите массив a_centered, отняв от значений массива “а” средние значения соответствующих признаков, содержащиеся в массиве mean_a. Вычисление должно производиться в одно действие. Получившийся массив должен иметь размер 5x2.\n",
      "metadata": {},
      "id": "d28bce63-8956-4a61-a697-8b1a369408be"
    },
    {
      "cell_type": "code",
      "source": "a_centered = np.subtract(a, mean_a)\na_centered",
      "metadata": {
        "trusted": true
      },
      "execution_count": 11,
      "outputs": [
        {
          "execution_count": 11,
          "output_type": "execute_result",
          "data": {
            "text/plain": "array([[-1. , -2.4],\n       [ 0. , -0.4],\n       [ 1. ,  2.6],\n       [ 1. ,  1.6],\n       [-1. , -1.4]])"
          },
          "metadata": {}
        }
      ],
      "id": "4dffe396-7be9-4021-9771-9b3ebd046105"
    },
    {
      "cell_type": "markdown",
      "source": "\nЗадание 3\n\nНайдите скалярное произведение столбцов массива a_centered. В результате должна получиться величина a_centered_sp. Затем поделите a_centered_sp на N-1, где N - число наблюдений.\n",
      "metadata": {},
      "id": "a1332c25-8821-49f0-9a36-a4e253689a60"
    },
    {
      "cell_type": "code",
      "source": "a_centered_sp = a_centered.T[0] @ a_centered.T[1]\na_centered_sp",
      "metadata": {
        "trusted": true
      },
      "execution_count": 12,
      "outputs": [
        {
          "execution_count": 12,
          "output_type": "execute_result",
          "data": {
            "text/plain": "8.0"
          },
          "metadata": {}
        }
      ],
      "id": "fc0b2858-da08-4de1-88c0-7f1173677aa9"
    },
    {
      "cell_type": "code",
      "source": "a_centered_sp / (a_centered.shape[0] - 1)",
      "metadata": {
        "trusted": true
      },
      "execution_count": 13,
      "outputs": [
        {
          "execution_count": 13,
          "output_type": "execute_result",
          "data": {
            "text/plain": "2.0"
          },
          "metadata": {}
        }
      ],
      "id": "ac3aa3ec-ff45-42b7-b1ae-5847df8c9ca4"
    },
    {
      "cell_type": "markdown",
      "source": "\nЗадание 4**\n\nЧисло, которое мы получили в конце задания 3 является ковариацией двух признаков, содержащихся в массиве “а”. В задании 4 мы делили сумму произведений центрированных признаков на N-1, а не на N, поэтому полученная нами величина является несмещенной оценкой ковариации.\n\nВ этом задании проверьте получившееся число, вычислив ковариацию еще одним способом - с помощью функции np.cov. В качестве аргумента m функция np.cov должна принимать транспонированный массив “a”. В получившейся ковариационной матрице (массив Numpy размером 2x2) искомое значение ковариации будет равно элементу в строке с индексом 0 и столбце с индексом 1.\n",
      "metadata": {},
      "id": "0825f6cd-9860-44b3-b7a1-db1dd7bb8168"
    },
    {
      "cell_type": "code",
      "source": "a_cov_mat = np.cov(a.T)\na_cov_mat",
      "metadata": {
        "trusted": true
      },
      "execution_count": 14,
      "outputs": [
        {
          "execution_count": 14,
          "output_type": "execute_result",
          "data": {
            "text/plain": "array([[1. , 2. ],\n       [2. , 4.3]])"
          },
          "metadata": {}
        }
      ],
      "id": "45a24ee0-4524-40f3-856b-b94a82d27e0e"
    },
    {
      "cell_type": "code",
      "source": "a_cov = a_cov_mat[0, 1]\na_cov",
      "metadata": {
        "trusted": true
      },
      "execution_count": null,
      "outputs": [
        {
          "execution_count": 15,
          "output_type": "execute_result",
          "data": {
            "text/plain": "2.0"
          },
          "metadata": {}
        }
      ],
      "id": "a31f5367-46c7-4cee-9772-08410adb66bd"
    }
  ]
}